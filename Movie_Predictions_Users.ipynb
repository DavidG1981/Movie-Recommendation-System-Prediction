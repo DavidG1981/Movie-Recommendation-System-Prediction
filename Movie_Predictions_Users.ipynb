{
 "cells": [
  {
   "cell_type": "markdown",
   "id": "bd3c58f5",
   "metadata": {},
   "source": [
    "# Movie Recommendation System Prediction dataset"
   ]
  },
  {
   "cell_type": "markdown",
   "id": "60ecc4d9",
   "metadata": {},
   "source": [
    "## Análisis Exploratorio de Datos (EDA): "
   ]
  },
  {
   "cell_type": "code",
   "execution_count": 1,
   "id": "789f3059",
   "metadata": {},
   "outputs": [],
   "source": [
    "# Import necessary libraries\n",
    "import pandas as pd\n",
    "import matplotlib.pyplot as plt"
   ]
  },
  {
   "cell_type": "code",
   "execution_count": 2,
   "id": "f27ae912",
   "metadata": {},
   "outputs": [],
   "source": [
    "# Load the dataset\n",
    "file_path = './u.data'  # Reemplaza con la ruta de tu archivo\n",
    "data = pd.read_csv(file_path, sep='\\t', header=None)"
   ]
  },
  {
   "cell_type": "code",
   "execution_count": 3,
   "id": "e2f34d83",
   "metadata": {},
   "outputs": [],
   "source": [
    "# Basic statistics\n",
    "total_users = data[0].nunique()\n",
    "total_movies = data[1].nunique()\n",
    "total_ratings = len(data)"
   ]
  },
  {
   "cell_type": "code",
   "execution_count": 4,
   "id": "4d59d259",
   "metadata": {},
   "outputs": [],
   "source": [
    "# Ratings distribution\n",
    "ratings_distribution = data[2].value_counts().sort_index()"
   ]
  },
  {
   "cell_type": "code",
   "execution_count": 5,
   "id": "655106d2",
   "metadata": {},
   "outputs": [],
   "source": [
    "# Analyzing number of ratings per movie\n",
    "ratings_per_movie = data[1].value_counts()"
   ]
  },
  {
   "cell_type": "code",
   "execution_count": 6,
   "id": "6d94629f",
   "metadata": {},
   "outputs": [],
   "source": [
    "# Analyzing number of ratings per user\n",
    "ratings_per_user = data[0].value_counts()"
   ]
  },
  {
   "cell_type": "code",
   "execution_count": 7,
   "id": "9f07dfdb",
   "metadata": {},
   "outputs": [
    {
     "data": {
      "text/plain": [
       "<Figure size 1600x600 with 0 Axes>"
      ]
     },
     "execution_count": 7,
     "metadata": {},
     "output_type": "execute_result"
    },
    {
     "data": {
      "text/plain": [
       "<Figure size 1600x600 with 0 Axes>"
      ]
     },
     "metadata": {},
     "output_type": "display_data"
    }
   ],
   "source": [
    "# Plotting the distributions\n",
    "plt.figure(figsize=(16, 6))"
   ]
  },
  {
   "cell_type": "code",
   "execution_count": 8,
   "id": "47b496a3",
   "metadata": {},
   "outputs": [
    {
     "data": {
      "image/png": "[encoded data removed]",
      "text/plain": [
       "<Figure size 640x480 with 2 Axes>"
      ]
     },
     "metadata": {},
     "output_type": "display_data"
    }
   ],
   "source": [
    "plt.subplot(1, 2, 1)\n",
    "plt.hist(ratings_per_movie, bins=50, color='blue')\n",
    "plt.title('Distribution of Ratings per Movie')\n",
    "plt.xlabel('Number of Ratings')\n",
    "plt.ylabel('Number of Movies')\n",
    "\n",
    "plt.subplot(1, 2, 2)\n",
    "plt.hist(ratings_per_user, bins=50, color='green')\n",
    "plt.title('Distribution of Ratings per User')\n",
    "plt.xlabel('Number of Ratings')\n",
    "plt.ylabel('Number of Users')\n",
    "\n",
    "plt.tight_layout()\n",
    "plt.show()"
   ]
  },
  {
   "cell_type": "code",
   "execution_count": 9,
   "id": "4bb15b03",
   "metadata": {},
   "outputs": [
    {
     "name": "stdout",
     "output_type": "stream",
     "text": [
      "count    1682.000000\n",
      "mean       59.454816\n",
      "std        80.390832\n",
      "min         1.000000\n",
      "25%         6.000000\n",
      "50%        27.000000\n",
      "75%        80.000000\n",
      "max       584.000000\n",
      "Name: 1, dtype: float64\n",
      "count    944.000000\n",
      "mean     105.935381\n",
      "std      100.933948\n",
      "min        3.000000\n",
      "25%       33.000000\n",
      "50%       64.500000\n",
      "75%      148.000000\n",
      "max      737.000000\n",
      "Name: 0, dtype: float64\n"
     ]
    }
   ],
   "source": [
    "# Displaying basic statistics of these distributions\n",
    "print(ratings_per_movie.describe())\n",
    "print(ratings_per_user.describe())"
   ]
  },
  {
   "cell_type": "markdown",
   "id": "1e4b0685",
   "metadata": {},
   "source": [
    "## Observaciones:"
   ]
  },
  {
   "cell_type": "markdown",
   "id": "d7caa63b",
   "metadata": {},
   "source": [
    "Aquí están las estadísticas básicas y la distribución de las calificaciones del dataset:\n",
    "\n",
    "Total de Usuarios: 944\n",
    "Total de Películas: 1682\n",
    "Total de Calificaciones: 100,003\n",
    "La distribución de las calificaciones es la siguiente:\n",
    "\n",
    "Calificación 1: 6,111 veces\n",
    "Calificación 2: 11,370 veces\n",
    "Calificación 3: 27,145 veces\n",
    "Calificación 4: 34,174 veces\n",
    "Calificación 5: 21,203 veces\n",
    "Esta distribución nos muestra que las calificaciones tienden a ser más altas, con la mayoría de las calificaciones siendo 3 o más. Las calificaciones 4 son las más comunes, seguidas por las calificaciones 3 y 5."
   ]
  },
  {
   "cell_type": "markdown",
   "id": "61e1cea7",
   "metadata": {},
   "source": [
    "Distribución de Calificaciones por Película\n",
    "Media: Aproximadamente 59 calificaciones por película.\n",
    "Desviación Estándar: 80, lo que sugiere una variabilidad considerable en la cantidad de calificaciones por película.\n",
    "Mínimo: Hay películas con solo 1 calificación.\n",
    "Mediana: 27 calificaciones por película.\n",
    "Máximo: Una película con un máximo de 584 calificaciones.\n",
    "Distribución de Calificaciones por Usuario\n",
    "Media: Aproximadamente 106 calificaciones por usuario.\n",
    "Desviación Estándar: Alrededor de 101, indicando una variabilidad significativa en la actividad de calificación de los usuarios.\n",
    "Mínimo: Hay usuarios que han calificado solo 3 películas.\n",
    "Mediana: 64.5 calificaciones por usuario.\n",
    "Máximo: Un usuario con un máximo de 737 calificaciones.\n",
    "Observaciones\n",
    "Hay una amplia gama en la cantidad de calificaciones tanto por película como por usuario. Algunas películas son calificadas muchas más veces que otras, lo que puede indicar diferencias en popularidad o disponibilidad.\n",
    "La actividad de los usuarios varía significativamente, con algunos usuarios mucho más activos en calificar películas que otros.\n",
    "Estos hallazgos pueden ser importantes al considerar la construcción de un sistema de recomendación, especialmente en términos de sesgos potenciales (por ejemplo, películas con pocas calificaciones pueden ser difíciles de recomendar con precisión).\n",
    "\n",
    "Si hay algún otro aspecto del dataset que te gustaría explorar o si deseas proceder a la siguiente etapa, como la construcción de un modelo de recomendación, házmelo saber. ​"
   ]
  },
  {
   "cell_type": "markdown",
   "id": "a561f298",
   "metadata": {},
   "source": [
    "## Preparación de Datos para Modelos de Recomendación:"
   ]
  },
  {
   "cell_type": "code",
   "execution_count": 10,
   "id": "4a0cbb80",
   "metadata": {},
   "outputs": [],
   "source": [
    "# Import necessary libraries\n",
    "import pandas as pd\n",
    "import matplotlib.pyplot as plt"
   ]
  },
  {
   "cell_type": "code",
   "execution_count": 11,
   "id": "13e649b7",
   "metadata": {},
   "outputs": [],
   "source": [
    "# Setting a threshold for minimum number of ratings\n",
    "movie_rating_threshold = 3\n",
    "user_rating_threshold = 3"
   ]
  },
  {
   "cell_type": "code",
   "execution_count": 12,
   "id": "2c1cbe97",
   "metadata": {},
   "outputs": [],
   "source": [
    "# Filtering movies with less than the threshold number of ratings\n",
    "filtered_data = data[data[1].map(data[1].value_counts()) >= movie_rating_threshold]"
   ]
  },
  {
   "cell_type": "code",
   "execution_count": 13,
   "id": "8a3d63f6",
   "metadata": {},
   "outputs": [],
   "source": [
    "# Filtering users with less than the threshold number of ratings\n",
    "filtered_data = filtered_data[filtered_data[0].map(filtered_data[0].value_counts()) >= user_rating_threshold]"
   ]
  },
  {
   "cell_type": "code",
   "execution_count": 14,
   "id": "c574d90b",
   "metadata": {},
   "outputs": [],
   "source": [
    "# Transforming the dataset into a user-movie matrix\n",
    "user_movie_matrix = filtered_data.pivot_table(index=[0], columns=[1], values=2)"
   ]
  },
  {
   "cell_type": "code",
   "execution_count": 15,
   "id": "6fdfac24",
   "metadata": {},
   "outputs": [],
   "source": [
    "# Filling missing values with 0 (assuming missing values mean no rating)\n",
    "user_movie_matrix.fillna(0, inplace=True)"
   ]
  },
  {
   "cell_type": "code",
   "execution_count": 16,
   "id": "c502aae4",
   "metadata": {},
   "outputs": [
    {
     "name": "stdout",
     "output_type": "stream",
     "text": [
      "1  1     2     3     4     5     6     7     8     9     10    ...  1615  \\\n",
      "0                                                              ...         \n",
      "0   0.0   0.0   0.0   0.0   0.0   0.0   0.0   0.0   0.0   0.0  ...   0.0   \n",
      "1   5.0   3.0   4.0   3.0   3.0   5.0   4.0   1.0   5.0   3.0  ...   0.0   \n",
      "2   4.0   0.0   0.0   0.0   0.0   0.0   0.0   0.0   0.0   2.0  ...   0.0   \n",
      "3   0.0   0.0   0.0   0.0   0.0   0.0   0.0   0.0   0.0   0.0  ...   0.0   \n",
      "4   0.0   0.0   0.0   0.0   0.0   0.0   0.0   0.0   0.0   0.0  ...   0.0   \n",
      "\n",
      "1  1620  1622  1623  1628  1639  1643  1652  1658  1664  \n",
      "0                                                        \n",
      "0   0.0   0.0   0.0   0.0   0.0   0.0   0.0   0.0   0.0  \n",
      "1   0.0   0.0   0.0   0.0   0.0   0.0   0.0   0.0   0.0  \n",
      "2   0.0   0.0   0.0   0.0   0.0   0.0   0.0   0.0   0.0  \n",
      "3   0.0   0.0   0.0   0.0   0.0   0.0   0.0   0.0   0.0  \n",
      "4   0.0   0.0   0.0   0.0   0.0   0.0   0.0   0.0   0.0  \n",
      "\n",
      "[5 rows x 1473 columns]\n"
     ]
    }
   ],
   "source": [
    "# Display the first few rows of the transformed dataset\n",
    "print(user_movie_matrix.head())"
   ]
  },
  {
   "cell_type": "markdown",
   "id": "ca7d51c5",
   "metadata": {},
   "source": [
    "## Obawrvaciones:"
   ]
  },
  {
   "cell_type": "markdown",
   "id": "fc27ecac",
   "metadata": {},
   "source": [
    " pasos:\n",
    "\n",
    "Filtrado de Datos: Eliminar películas con muy pocas calificaciones y usuarios que han calificado muy pocas películas para mejorar la calidad de las recomendaciones.\n",
    "Transformación de Datos: Convertir el dataset en una matriz usuario-película para técnicas de filtrado colaborativo, donde las filas representan a los usuarios, las columnas a las películas, y los valores son las calificaciones.\n",
    "Comenzaré con el filtrado de datos, eliminando películas y usuarios con un umbral mínimo de calificaciones. Este umbral puede ser ajustado según tus necesidades. Para este ejemplo, usaré un umbral relativamente bajo, como 3 calificaciones para las películas y 3 calificaciones para los usuarios. Luego, transformaré los datos en una matriz usuario-película. Vamos a hacer esto paso a paso.\n",
    "\n",
    "He completado el proceso de filtrado y transformación de los datos. Aquí están los detalles:\n",
    "\n",
    "Filtrado de Datos\n",
    "He filtrado películas y usuarios que tienen menos de 3 calificaciones.\n",
    "Después del filtrado, nos quedamos con un total de 99,726 registros en el conjunto de datos.\n",
    "Transformación a Matriz Usuario-Película\n",
    "Convertí los datos filtrados en una matriz donde cada fila representa a un usuario y cada columna a una película.\n",
    "Las calificaciones están en las celdas de la matriz. Si un usuario no ha calificado una película, el valor es 0.\n",
    "La matriz resultante tiene 1473 columnas, que representan las películas.\n",
    "Este formato es ideal para técnicas de filtrado colaborativo, donde se utilizan las calificaciones de los usuarios para hacer recomendaciones."
   ]
  },
  {
   "cell_type": "markdown",
   "id": "d780c1fd",
   "metadata": {},
   "source": [
    "## Construcción de Modelos de Recomendación:"
   ]
  },
  {
   "cell_type": "code",
   "execution_count": 17,
   "id": "555fde5e",
   "metadata": {},
   "outputs": [],
   "source": [
    "import numpy as np\n",
    "from scipy.sparse.linalg import svds"
   ]
  },
  {
   "cell_type": "code",
   "execution_count": 18,
   "id": "375c8134",
   "metadata": {},
   "outputs": [],
   "source": [
    "# Asumiendo que ya tienes 'user_movie_matrix' como un DataFrame de pandas\n",
    "\n",
    "# Convierte el DataFrame a un array de numpy\n",
    "R = user_movie_matrix.values"
   ]
  },
  {
   "cell_type": "code",
   "execution_count": 19,
   "id": "bd988bfe",
   "metadata": {},
   "outputs": [],
   "source": [
    "# Normaliza los datos restando la media de las calificaciones de cada usuario\n",
    "user_ratings_mean = np.mean(R, axis=1)\n",
    "R_demeaned = R - user_ratings_mean.reshape(-1, 1)"
   ]
  },
  {
   "cell_type": "code",
   "execution_count": 20,
   "id": "860776bb",
   "metadata": {},
   "outputs": [],
   "source": [
    "# Aplica SVD. Puedes variar el número de componentes 'k' según sea necesario\n",
    "U, sigma, Vt = svds(R_demeaned, k=50)"
   ]
  },
  {
   "cell_type": "code",
   "execution_count": 21,
   "id": "c2992b86",
   "metadata": {},
   "outputs": [],
   "source": [
    "# 'sigma' devuelto por svds es solo los valores, por lo que lo convertimos en una matriz diagonal\n",
    "sigma = np.diag(sigma)\n",
    "# Ahora U, sigma, y Vt contienen la descomposición de tu matriz"
   ]
  },
  {
   "cell_type": "markdown",
   "id": "a0583aa0",
   "metadata": {},
   "source": [
    "## Observaciones:"
   ]
  },
  {
   "cell_type": "markdown",
   "id": "283eba24",
   "metadata": {},
   "source": [
    "Qué Hemos Hecho?\n",
    "Normalización de Calificaciones:\n",
    "\n",
    "Primero, hemos normalizado las calificaciones restando la media de las calificaciones de cada usuario. Esto se hace para centrar los datos alrededor de cero y lidiar con diferentes escalas de calificación entre usuarios.\n",
    "Aplicación de SVD (Descomposición de Valor Singular):\n",
    "\n",
    "Luego, hemos aplicado SVD a la matriz de calificaciones normalizada. SVD es una técnica de factorización que descompone una matriz en tres componentes: U, Sigma (σ) y V transpuesta (Vt).\n",
    "U (Matriz de Usuarios): Representa las características latentes de los usuarios.\n",
    "Sigma (σ): Es una matriz diagonal que contiene los valores singulares, que representan la importancia de cada característica latente.\n",
    "Vt (Matriz de Películas Transpuesta): Representa las características latentes de las películas.\n",
    "Reducción de Dimensionalidad:\n",
    "\n",
    "Al seleccionar un número k de características latentes (en tu caso, k=20), reducimos la dimensionalidad de los datos, concentrándonos en las características más significativas.\n",
    "Qué Nos Permite Hacer\n",
    "Reconstrucción Aproximada de la Matriz Original:\n",
    "\n",
    "Al multiplicar U, Sigma y Vt, podemos reconstruir una aproximación de la matriz original de calificaciones. Esta matriz reconstruida tendrá las predicciones de calificaciones para todas las combinaciones de usuarios y películas.\n",
    "Hacer Recomendaciones:\n",
    "\n",
    "Podemos usar la matriz reconstruida para predecir las calificaciones que los usuarios podrían dar a películas que no han visto aún.\n",
    "Esto se hace buscando las calificaciones más altas predichas en la matriz para cada usuario y recomendando las películas correspondientes.\n",
    "Entender las Preferencias del Usuario y Características de la Película:\n",
    "\n",
    "Las matrices U y Vt nos dan una idea de las características latentes de los usuarios y las películas. Esto puede ayudar a entender qué factores están influyendo en las preferencias de los usuarios."
   ]
  },
  {
   "cell_type": "markdown",
   "id": "35dcfa21",
   "metadata": {},
   "source": [
    "## Evaluación del Modelo:"
   ]
  },
  {
   "cell_type": "code",
   "execution_count": 22,
   "id": "0d76ef2a",
   "metadata": {},
   "outputs": [],
   "source": [
    "import numpy as np\n",
    "import pandas as pd"
   ]
  },
  {
   "cell_type": "code",
   "execution_count": 23,
   "id": "833da658",
   "metadata": {},
   "outputs": [],
   "source": [
    "# Asumiendo que ya tienes las matrices U, sigma y Vt de la descomposición SVD\n",
    "# y 'user_ratings_mean' del paso de normalización"
   ]
  },
  {
   "cell_type": "code",
   "execution_count": 24,
   "id": "a021c267",
   "metadata": {},
   "outputs": [],
   "source": [
    "# Haciendo predicciones de calificaciones\n",
    "predicted_ratings = np.dot(np.dot(U, sigma), Vt) + user_ratings_mean.reshape(-1, 1)"
   ]
  },
  {
   "cell_type": "code",
   "execution_count": 25,
   "id": "6f6e248d",
   "metadata": {},
   "outputs": [],
   "source": [
    "# Convertir las predicciones en un DataFrame para facilitar la manipulación\n",
    "preds_df = pd.DataFrame(predicted_ratings, columns=user_movie_matrix.columns)\n",
    "\n",
    "# Ahora 'preds_df' contiene las calificaciones predichas para cada usuario y película"
   ]
  },
  {
   "cell_type": "code",
   "execution_count": 26,
   "id": "0098d06e",
   "metadata": {},
   "outputs": [],
   "source": [
    "# Ejemplo para ver las predicciones para el usuario con ID 1\n",
    "user_id = 1\n",
    "user_row_number = user_id - 1  # ID del usuario menos 1\n",
    "sorted_user_predictions = preds_df.iloc[user_row_number].sort_values(ascending=False)"
   ]
  },
  {
   "cell_type": "code",
   "execution_count": 27,
   "id": "c16a8f0e",
   "metadata": {},
   "outputs": [
    {
     "name": "stdout",
     "output_type": "stream",
     "text": [
      "1\n",
      "50     2.250895\n",
      "181    1.826999\n",
      "172    1.527565\n",
      "174    0.943340\n",
      "210    0.728001\n",
      "127    0.590553\n",
      "173    0.451319\n",
      "204    0.397730\n",
      "89     0.371263\n",
      "195    0.295862\n",
      "Name: 0, dtype: float64\n"
     ]
    }
   ],
   "source": [
    "# Mostrar las predicciones de calificaciones más altas para este usuario\n",
    "print(sorted_user_predictions.head(10))"
   ]
  },
  {
   "cell_type": "markdown",
   "id": "1ab8d641",
   "metadata": {},
   "source": [
    "## Observaciones:"
   ]
  },
  {
   "cell_type": "code",
   "execution_count": null,
   "id": "deece0d2",
   "metadata": {},
   "outputs": [],
   "source": [
    "Lo que Hemos Hecho\n",
    "Normalización de Calificaciones:\n",
    "\n",
    "Restamos la media de las calificaciones de cada usuario a sus calificaciones. Esto centra los datos y ayuda a manejar diferencias en la escala de calificación entre usuarios.\n",
    "Descomposición SVD:\n",
    "\n",
    "Aplicamos la descomposición de valor singular (SVD) a la matriz de calificaciones normalizada. Esto descompone la matriz en tres componentes: U, Sigma y Vt.\n",
    "U representa las características latentes de los usuarios.\n",
    "Sigma contiene los valores singulares, indicando la importancia de cada característica latente.\n",
    "Vt representa las características latentes de las películas.\n",
    "Reconstrucción de Calificaciones:\n",
    "\n",
    "Multiplicamos U, Sigma y Vt para obtener una aproximación de la matriz original de calificaciones, ajustada con la media de calificaciones de cada usuario. Esto nos da una matriz de predicciones de calificaciones.\n",
    "Significado del Código\n",
    "El código ejecutado reconstruye las calificaciones originales a partir de las matrices de características latentes.\n",
    "predicted_ratings es la matriz reconstruida, donde cada elemento representa la calificación predicha para un par usuario-película.\n",
    "Convertimos predicted_ratings en un DataFrame (preds_df) para facilitar el manejo y la interpretación de los datos."
   ]
  },
  {
   "cell_type": "markdown",
   "id": "f795795b",
   "metadata": {},
   "source": [
    "# Obtener Predicciones para Todos los Usuarios"
   ]
  },
  {
   "cell_type": "code",
   "execution_count": 28,
   "id": "a9668ff8",
   "metadata": {},
   "outputs": [
    {
     "name": "stdout",
     "output_type": "stream",
     "text": [
      "Usuario 1:\n",
      "1\n",
      "50     2.250895\n",
      "181    1.826999\n",
      "172    1.527565\n",
      "174    0.943340\n",
      "210    0.728001\n",
      "Name: 0, dtype: float64 \n",
      "\n",
      "Usuario 2:\n",
      "1\n",
      "100    7.522970\n",
      "89     6.723876\n",
      "176    6.671502\n",
      "1      6.474845\n",
      "12     5.898101\n",
      "Name: 1, dtype: float64 \n",
      "\n",
      "Usuario 3:\n",
      "1\n",
      "286    5.874069\n",
      "269    5.419719\n",
      "127    5.038803\n",
      "302    4.189063\n",
      "100    4.148688\n",
      "Name: 2, dtype: float64 \n",
      "\n",
      "Usuario 4:\n",
      "1\n",
      "268    2.792366\n",
      "340    2.744208\n",
      "333    2.727444\n",
      "302    2.668516\n",
      "328    2.651953\n",
      "Name: 3, dtype: float64 \n",
      "\n",
      "Usuario 5:\n",
      "1\n",
      "258    3.844175\n",
      "288    3.170771\n",
      "300    3.137167\n",
      "294    2.800665\n",
      "50     2.175073\n",
      "Name: 4, dtype: float64 \n",
      "\n",
      "Usuario 6:\n",
      "1\n",
      "168    5.460513\n",
      "50     5.102430\n",
      "181    4.936425\n",
      "228    4.340197\n",
      "222    4.280339\n",
      "Name: 5, dtype: float64 \n",
      "\n",
      "Usuario 7:\n",
      "1\n",
      "357    6.976608\n",
      "483    6.338880\n",
      "100    6.311340\n",
      "269    6.252268\n",
      "180    5.948788\n",
      "Name: 6, dtype: float64 \n",
      "\n",
      "Usuario 8:\n",
      "1\n",
      "199    8.121866\n",
      "179    7.918096\n",
      "511    7.866360\n",
      "427    7.475941\n",
      "200    7.025853\n",
      "Name: 7, dtype: float64 \n",
      "\n",
      "Usuario 9:\n",
      "1\n",
      "50     5.704714\n",
      "172    4.857578\n",
      "174    4.778161\n",
      "96     4.714021\n",
      "181    4.687977\n",
      "Name: 8, dtype: float64 \n",
      "\n",
      "Usuario 10:\n",
      "1\n",
      "286    3.333589\n",
      "276    2.011236\n",
      "483    1.907447\n",
      "50     1.875630\n",
      "340    1.274973\n",
      "Name: 9, dtype: float64 \n",
      "\n"
     ]
    }
   ],
   "source": [
    "# Ejemplo para obtener las 5 películas más recomendadas para los primeros 10 usuarios\n",
    "top_n_movies = 5\n",
    "top_n_users = 10\n",
    "\n",
    "for user_id in range(top_n_users):\n",
    "    sorted_user_predictions = preds_df.iloc[user_id].sort_values(ascending=False)\n",
    "    print(f\"Usuario {user_id+1}:\")\n",
    "    print(sorted_user_predictions.head(top_n_movies), \"\\n\")\n"
   ]
  },
  {
   "cell_type": "markdown",
   "id": "ab39ef3a",
   "metadata": {},
   "source": [
    "## Observaciones:"
   ]
  },
  {
   "cell_type": "markdown",
   "id": "2fb51ea0",
   "metadata": {},
   "source": [
    "Configuración de Parámetros:\n",
    "\n",
    "top_n_movies: Define cuántas de las películas mejor calificadas quieres mostrar para cada usuario.\n",
    "top_n_users: Define para cuántos usuarios quieres hacer esta visualización.\n",
    "Bucle para Cada Usuario:\n",
    "\n",
    "El código itera sobre los primeros top_n_users usuarios.\n",
    "user_id es el índice del usuario en el bucle.\n",
    "Ordenar Predicciones:\n",
    "\n",
    "sorted_user_predictions = preds_df.iloc[user_id].sort_values(ascending=False)\n",
    "Para cada usuario, este código toma la fila correspondiente de preds_df (que contiene las calificaciones predichas para todas las películas) y las ordena de mayor a menor.\n",
    "Esto significa que las películas que el modelo predice que el usuario calificaría más alto están al principio.\n",
    "Visualización de Resultados:\n",
    "\n",
    "print(f\"Usuario {user_id+1}:\"): Imprime el ID del usuario.\n",
    "print(sorted_user_predictions.head(top_n_movies)): Imprime las top_n_movies películas mejor calificadas para ese usuario, según las predicciones del modelo.\n",
    "Se añade un salto de línea (\"\\n\") para una mejor legibilidad.\n",
    "Implicaciones\n",
    "Este código permite visualizar qué películas son recomendadas para cada usuario, según el modelo. Es útil para entender las recomendaciones del modelo a nivel individual.\n",
    "Al mostrar las predicciones para los primeros usuarios, se obtiene una idea de cómo el modelo está funcionando. Sin embargo, es una muestra limitada y no necesariamente representa el rendimiento general del modelo.\n",
    "Este enfoque es excelente para una exploración inicial y para demostrar cómo el modelo puede ser utilizado para hacer recomendaciones personalizadas. Para una evaluación más completa y sistemática del modelo, sería ideal comparar estas predicciones con un conjunto de datos de prueba o utilizar técnicas de validación cruzada."
   ]
  }
 ],
 "metadata": {
  "kernelspec": {
   "display_name": "Python 3 (ipykernel)",
   "language": "python",
   "name": "python3"
  },
  "language_info": {
   "codemirror_mode": {
    "name": "ipython",
    "version": 3
   },
   "file_extension": ".py",
   "mimetype": "text/x-python",
   "name": "python",
   "nbconvert_exporter": "python",
   "pygments_lexer": "ipython3",
   "version": "3.11.4"
  }
 },
 "nbformat": 4,
 "nbformat_minor": 5
}
